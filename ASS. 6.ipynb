{
 "cells": [
  {
   "cell_type": "code",
   "execution_count": 25,
   "id": "d1952c60-8745-444e-b6f4-d401c42dc9ee",
   "metadata": {},
   "outputs": [
    {
     "name": "stdin",
     "output_type": "stream",
     "text": [
      "enter any password of your choice India!@456\n"
     ]
    },
    {
     "name": "stdout",
     "output_type": "stream",
     "text": [
      "invlaid password\n"
     ]
    }
   ],
   "source": [
    "\"\"\"QTS. 1\"\"\"\n",
    "digit=0\n",
    "l1=0\n",
    "l2=0\n",
    "l3=0\n",
    "special=0\n",
    "p= input(\"enter any password of your choice\")\n",
    "class validity:\n",
    "    l1,l2,l3,digit,special= 0,0,0,0,0\n",
    "    def password(self,p):\n",
    "        l3=len(p)\n",
    "        if l3>=10:\n",
    "            for i in p:\n",
    "                if i>='a' and i<='z':\n",
    "                    self.l1=self.l1+1\n",
    "                    return self.l1\n",
    "                elif i>='A' and i<='Z':\n",
    "                    self.l2=self.l2+1\n",
    "                    return self.l2\n",
    "                elif i>=0 and i<=9:\n",
    "                    self.digit=self.digit+1\n",
    "                    return self.digit\n",
    "                else:\n",
    "                    self.special=self.special+1\n",
    "                    return self.special\n",
    "    def check(self):\n",
    "        if self.l1>=2 and self.l2>=2 and self.digit==1 and self.special>=3:\n",
    "            print(\"valid password\")\n",
    "        else:\n",
    "            print(\"invlaid password\")\n",
    "    \n",
    "\n",
    "    \n",
    "ch=validity()   \n",
    "ch.password(p)\n",
    "ch.check()"
   ]
  },
  {
   "cell_type": "code",
   "execution_count": 37,
   "id": "8bb77979-e94f-43d2-af12-a3c3efc23ef8",
   "metadata": {},
   "outputs": [
    {
     "name": "stdin",
     "output_type": "stream",
     "text": [
      "enter any letter to check in a string i\n",
      "enter any string i am a data science student\n"
     ]
    },
    {
     "name": "stdout",
     "output_type": "stream",
     "text": [
      "True\n"
     ]
    }
   ],
   "source": [
    "\"\"\"QTS. 2.1\"\"\"\n",
    "l=input(\"enter any letter to check in a string\")\n",
    "st=input(\"enter any string\")\n",
    "\n",
    "result= filter(lambda l,st:True if st[0]=='l' else False,st)\n",
    "print(bool(result))\n",
    "\n"
   ]
  },
  {
   "cell_type": "code",
   "execution_count": 39,
   "id": "631390cd-4689-4c99-9396-8102caf0992f",
   "metadata": {},
   "outputs": [
    {
     "name": "stdin",
     "output_type": "stream",
     "text": [
      "ënter any string i am a student\n"
     ]
    },
    {
     "name": "stdout",
     "output_type": "stream",
     "text": [
      "True\n"
     ]
    }
   ],
   "source": [
    "\"\"\"qts.2.2\"\"\"\n",
    "st= input(\"ënter any string\")\n",
    "result= filter(lambda st:True if st.isnumeric() else False,st)\n",
    "print(bool(result))"
   ]
  },
  {
   "cell_type": "code",
   "execution_count": 64,
   "id": "03aa9e8b-946c-4993-a948-0b103ac5b001",
   "metadata": {},
   "outputs": [
    {
     "name": "stdout",
     "output_type": "stream",
     "text": [
      "[1, 4, 9, 16, 25, 36, 49, 64, 81, 100]\n"
     ]
    }
   ],
   "source": [
    "\"\"\"QTS.2 .4\"\"\"\n",
    "l=[i**2 for i in range(1,11)]\n",
    "print(l)    "
   ]
  },
  {
   "cell_type": "code",
   "execution_count": 66,
   "id": "237a6ce6-371c-4664-ad72-b3f2602df5df",
   "metadata": {},
   "outputs": [
    {
     "name": "stdout",
     "output_type": "stream",
     "text": [
      "[1, 8, 27, 64, 125, 216, 343, 512, 729, 1000]\n"
     ]
    }
   ],
   "source": [
    "\"\"\"QTS.2. 5\"\"\"\n",
    "l=[i**3 for i in range(1,11)]\n",
    "print(l)"
   ]
  },
  {
   "cell_type": "code",
   "execution_count": 77,
   "id": "1786b2ad-3807-4164-998b-3fd5cf0797ac",
   "metadata": {},
   "outputs": [
    {
     "name": "stdin",
     "output_type": "stream",
     "text": [
      "enter any integer number 26\n"
     ]
    },
    {
     "data": {
      "text/plain": [
       "'odd'"
      ]
     },
     "execution_count": 77,
     "metadata": {},
     "output_type": "execute_result"
    }
   ],
   "source": [
    "\"\"\"QTS. 2.6\"\"\"\n",
    "n= int(input(\"enter any integer number\"))\n",
    "result=lambda n:\"even\"if n/2==0 else \"odd\"\n",
    "result(n)"
   ]
  },
  {
   "cell_type": "code",
   "execution_count": 1,
   "id": "1ebe61a7-548c-464d-b699-c0bc9b8ddf88",
   "metadata": {},
   "outputs": [
    {
     "name": "stdout",
     "output_type": "stream",
     "text": [
      "[1, 3, 5, 7, 9]\n"
     ]
    }
   ],
   "source": [
    "\"\"\"QTS.2 .7\"\"\"\n",
    "l=[1,2,3,4,5,6,7,8,9,10]\n",
    "for i in l:\n",
    "    l1=list(filter(lambda i:i%2!=0,l))\n",
    "print(l1)        "
   ]
  },
  {
   "cell_type": "code",
   "execution_count": 2,
   "id": "10e494b0-8171-4974-9c5e-9d81b18135c5",
   "metadata": {},
   "outputs": [
    {
     "name": "stdout",
     "output_type": "stream",
     "text": [
      "[1, 2, 3, 4, 5, 6, 0]\n",
      "[-1, -2, -3, -4, -5]\n"
     ]
    }
   ],
   "source": [
    "\"\"\"QTS.2. 8\"\"\"\n",
    "l=[1,2,3,4,5,6,-1,-2,-3,-4,-5,0]\n",
    "for i in l:\n",
    "    l1=list(filter(lambda i:i>=0,l))\n",
    "    l2=list(filter(lambda i:i<0,l))\n",
    "print(l1)\n",
    "print(l2)\n",
    "    "
   ]
  }
 ],
 "metadata": {
  "kernelspec": {
   "display_name": "Python 3 (ipykernel)",
   "language": "python",
   "name": "python3"
  },
  "language_info": {
   "codemirror_mode": {
    "name": "ipython",
    "version": 3
   },
   "file_extension": ".py",
   "mimetype": "text/x-python",
   "name": "python",
   "nbconvert_exporter": "python",
   "pygments_lexer": "ipython3",
   "version": "3.10.8"
  }
 },
 "nbformat": 4,
 "nbformat_minor": 5
}
